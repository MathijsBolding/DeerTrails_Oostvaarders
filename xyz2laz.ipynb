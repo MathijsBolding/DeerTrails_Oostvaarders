{
 "cells": [
  {
   "cell_type": "code",
   "execution_count": 2,
   "id": "bbbbd5d4-9b2c-4996-875b-f17af8fa5a7c",
   "metadata": {},
   "outputs": [],
   "source": [
    "import laspy\n",
    "import os\n",
    "import numpy as np\n",
    "\n",
    "def xyz2laz(xyz_file, output_folder):\n",
    "    #Save input file name\n",
    "    file_name = os.path.basename(xyz_file)\n",
    "\n",
    "    #Create output laz-file\n",
    "    output_laz_file = os.path.splitext(file_name)[0] + \".laz\"\n",
    "    output_laz_path = os.path.join(output_folder, output_laz_file)\n",
    "\n",
    "    \n",
    "    # Load in the .xyz data\n",
    "    data = np.loadtxt(xyz_file, usecols=(0, 1, 2))\n",
    "    x, y, z = data[:, 0], data[:, 1], data[:, 2]\n",
    "\n",
    "    #Create a LAS header\n",
    "    header = laspy.LasHeader(point_format=1, version=\"1.2\")\n",
    "    header.scales = (0.01, 0.01, 0.01)  # Set scale factors\n",
    "    header.offsets = (np.min(x), np.min(y), np.min(z))\n",
    "    \n",
    "    # Create LAS data\n",
    "    las = laspy.LasData(header)\n",
    "    las.x = x\n",
    "    las.y = y\n",
    "    las.z = z\n",
    "\n",
    "    #Save as laz\n",
    "    with laspy.open(output_laz_path, mode=\"w\", header=header) as las_writer:\n",
    "       las_writer.write_points(las.points)\n",
    "\n",
    "       print(f\"saved as LAZ: {output_laz_path}\")\n",
    "\n",
    "    #return x, y, z\n",
    "\n"
   ]
  },
  {
   "cell_type": "code",
   "execution_count": 3,
   "id": "3a266851-0887-4908-a93e-ef50759dc8c5",
   "metadata": {},
   "outputs": [
    {
     "name": "stdout",
     "output_type": "stream",
     "text": [
      "saved as LAZ: validationPlotsAHN5/DeerOnly/lapl50m_2laz\\CC#0_2_dtm.laz\n",
      "saved as LAZ: validationPlotsAHN5/DeerOnly/lapl50m_2laz\\CC#0_dtm.laz\n",
      "saved as LAZ: validationPlotsAHN5/DeerOnly/lapl50m_2laz\\CC#1_2_dtm.laz\n",
      "saved as LAZ: validationPlotsAHN5/DeerOnly/lapl50m_2laz\\CC#1_dtm.laz\n",
      "saved as LAZ: validationPlotsAHN5/DeerOnly/lapl50m_2laz\\CC#2_2_dtm.laz\n",
      "saved as LAZ: validationPlotsAHN5/DeerOnly/lapl50m_2laz\\CC#2_dtm.laz\n",
      "saved as LAZ: validationPlotsAHN5/DeerOnly/lapl50m_2laz\\CC#3_2_dtm.laz\n",
      "saved as LAZ: validationPlotsAHN5/DeerOnly/lapl50m_2laz\\CC#3_dtm.laz\n",
      "saved as LAZ: validationPlotsAHN5/DeerOnly/lapl50m_2laz\\CC#4_dtm.laz\n",
      "saved as LAZ: validationPlotsAHN5/DeerOnly/lapl50m_2laz\\CC#5_dtm.laz\n",
      "saved as LAZ: validationPlotsAHN5/DeerOnly/lapl50m_2laz\\CC#6_dtm.laz\n",
      "saved as LAZ: validationPlotsAHN5/DeerOnly/lapl50m_2laz\\Clipped50m_000000.las_dtm.laz\n",
      "saved as LAZ: validationPlotsAHN5/DeerOnly/lapl50m_2laz\\Clipped50m_000003.las_dtm.laz\n"
     ]
    }
   ],
   "source": [
    "#Do it as a loop \n",
    "import os\n",
    "#from rasterio.transform import from_origin\n",
    "directory = 'validationPlotsAHN5/DeerOnly/lapl50m_2'  # set directory path\n",
    "\n",
    "for entry in os.scandir(directory):  \n",
    "    if entry.is_file():  \n",
    "        xyz2laz(entry.path, output_folder = \"validationPlotsAHN5/DeerOnly/lapl50m_2laz\")\n"
   ]
  },
  {
   "cell_type": "code",
   "execution_count": null,
   "id": "c32a8195-7a0d-4113-afaa-330db0db0dd8",
   "metadata": {},
   "outputs": [],
   "source": []
  },
  {
   "cell_type": "code",
   "execution_count": 4,
   "id": "f697dd77-7684-499f-b3e8-53475bcebd1b",
   "metadata": {},
   "outputs": [
    {
     "data": {
      "text/plain": [
       "'C:\\\\Users\\\\mathi\\\\Internship'"
      ]
     },
     "execution_count": 4,
     "metadata": {},
     "output_type": "execute_result"
    }
   ],
   "source": [
    "pwd()"
   ]
  }
 ],
 "metadata": {
  "kernelspec": {
   "display_name": "Python 3 (ipykernel)",
   "language": "python",
   "name": "python3"
  },
  "language_info": {
   "codemirror_mode": {
    "name": "ipython",
    "version": 3
   },
   "file_extension": ".py",
   "mimetype": "text/x-python",
   "name": "python",
   "nbconvert_exporter": "python",
   "pygments_lexer": "ipython3",
   "version": "3.12.9"
  }
 },
 "nbformat": 4,
 "nbformat_minor": 5
}
